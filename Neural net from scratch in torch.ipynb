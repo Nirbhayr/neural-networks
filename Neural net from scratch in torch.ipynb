{
 "cells": [
  {
   "cell_type": "code",
   "execution_count": 2,
   "id": "201ebd70",
   "metadata": {},
   "outputs": [],
   "source": [
    "import numpy as np\n",
    "import torch\n",
    "import math\n",
    "import matplotlib.pyplot as plt"
   ]
  },
  {
   "cell_type": "markdown",
   "id": "edc7739c",
   "metadata": {},
   "source": [
    "# Implementing simple neural network  \n",
    "\n",
    "- Implement simple neural network with `torch`\n",
    "- Understand basics of how inputs, weights, and biases are combined to form outputs. Not just theoretically.\n",
    "- Understand how to work with tensors using `torch` (not _exactly_ same as numpy vectors). Get comfortable\n",
    "- Derive gradients manually to update the weights of a network. (not using autograd!!) \n"
   ]
  },
  {
   "cell_type": "markdown",
   "id": "0deb0845",
   "metadata": {},
   "source": [
    "## Define a neural net (without using nn.Module)  \n",
    "\n",
    "- Here we do not use torch.nn.Module\n",
    "\n",
    "A simple neural network with 1 hidden layer with 2 neurons. The output (1 neuron) is 1X1 and input is 3X1. \n",
    "\n",
    "\n",
    "The weight matrix for hidden layer is shown below with three elements in each row. Each element $w_{jk}^{[1]}$ is the $k^{th}$ weight of the $j^{th}$ neuron in first layer. So, $w_{23}^{[1]}$ is the third weight of the second neuron in the first layer.  \n",
    "\n",
    "The second weight matrix consists of two elements only. Since there are only two neurons in the previous layer and one neuron in the output layer."
   ]
  },
  {
   "cell_type": "markdown",
   "id": "db60c706",
   "metadata": {},
   "source": [
    "$$\\mathbf{W}^{[1]} = \\begin{bmatrix}w_{11}^{[1]}&w_{12}^{[1]}&w_{13}^{[1]}\\\\\n",
    "                 w_{21}^{[1]}&w_{22}^{[1]}&w_{23}^{[1]}\\\\\n",
    "                 \\end{bmatrix}$$  \n",
    "$$\\mathbf{W}^{[2]} = \\begin{bmatrix}w_{11}^{[2]}&w_{12}^{[2]}\n",
    "                 \\end{bmatrix}$$"
   ]
  },
  {
   "cell_type": "code",
   "execution_count": 3,
   "id": "f4b4126d",
   "metadata": {},
   "outputs": [
    {
     "name": "stdout",
     "output_type": "stream",
     "text": [
      "torch.Size([2, 3]) torch.Size([2, 1])\n"
     ]
    }
   ],
   "source": [
    "# weights of first layer\n",
    "weights_1 = torch.randn(2,3)\n",
    "# weights_1.requires_grad_()  # this is used when we are using autograd() to update weights. We will not need it now.\n",
    "\n",
    "# weights of second layer\n",
    "weights_2 = torch.randn(2, 1)\n",
    "# weights_2.requires_grad_()\n",
    "\n",
    "# biases of first layer\n",
    "biases_1 = torch.ones(2, 1, requires_grad=False)   # Same as above. Explicitly set to False to show how to do it. Default value is False.\n",
    "\n",
    "# biases of second layer\n",
    "biases_2 = torch.ones(1, 1, requires_grad=False)\n",
    "\n",
    "print(weights_1.shape, weights_2.shape)"
   ]
  },
  {
   "cell_type": "code",
   "execution_count": 11,
   "id": "c697e7c9",
   "metadata": {},
   "outputs": [
    {
     "name": "stdout",
     "output_type": "stream",
     "text": [
      "torch.Size([3, 1])\n"
     ]
    }
   ],
   "source": [
    "# single input (later we will do with batches) This input is only for initial testing of functions. \n",
    "inputs = torch.randn(3,1)\n",
    "print(inputs.shape)"
   ]
  },
  {
   "cell_type": "markdown",
   "id": "1820f90d",
   "metadata": {},
   "source": [
    "## Activation functions"
   ]
  },
  {
   "cell_type": "code",
   "execution_count": 12,
   "id": "d125d262",
   "metadata": {},
   "outputs": [],
   "source": [
    "def relu(x):\n",
    "    '''\n",
    "    Implements ReLU acitvation function\n",
    "    Returns the ReLU output\n",
    "    '''\n",
    "    return x* (x>0) # One of the simplest way to implement ReLU.\n",
    "\n",
    "def sigmoid(x):\n",
    "    '''\n",
    "    Implements sigmoid activation\n",
    "    Returns the sigmoid(x)\n",
    "    '''\n",
    "    return 1/(1 + np.exp(-(x.detach())))"
   ]
  },
  {
   "cell_type": "markdown",
   "id": "7d89101e",
   "metadata": {},
   "source": [
    "## Model  \n",
    "\n",
    "The `forward()` function calculates the output of the network. This function returns the output of a neuron and not the activations. We use the activations functions above for that. This creates modular code and easy to debug. Trust me I did not make it work in a single run.It helps."
   ]
  },
  {
   "cell_type": "code",
   "execution_count": 6,
   "id": "02b6cf3e",
   "metadata": {},
   "outputs": [],
   "source": [
    "def forward(layer, inputs, weights, biases, print_summary = False):\n",
    "    '''\n",
    "    Calculates forward pass for a single layer model (here with 2 inputs and three neurons)  \n",
    "    \n",
    "    inputs: Inputs (tensor)\n",
    "    \n",
    "    weights: weights of neurons in the layer (tensor)\n",
    "    \n",
    "    biases: biases of neurons the layer (tensor)\n",
    "    \n",
    "    activ: activation function (function)\n",
    "    \n",
    "    layer: Number of layers. \n",
    "    \n",
    "    Returns the output of a layer as a tensor\n",
    "    '''\n",
    "    if print_summary == True:\n",
    "        \n",
    "        print('==========================================================')\n",
    "        print('Inputs for layer {}: {}\\n'.format(layer, inputs.ravel()))\n",
    "\n",
    "        print('------------------------------------------------')\n",
    "        print('biases for layer {}: {}: \\n'.format(layer, biases.ravel()))\n",
    "\n",
    "        print('------------------------------------------------')\n",
    "        print('Weights for layer {}: {}:\\n'.format(layer, weights))\n",
    "\n",
    "    if weights.shape[1]>1: # for layers which have proper weight matrices (nxm) and not single row of weights\n",
    "        z = weights@inputs + biases    \n",
    "\n",
    "    else:\n",
    "        z = torch.dot(weights.ravel(), inputs.ravel()) + biases.ravel()  # for last layer whose weight matrix is actually a vector\n",
    "    \n",
    "    if print_summary == True:\n",
    "        print('------------------------------------------------')\n",
    "        print('Outputs for layer {}: {}\\n\\n'.format(layer, z))\n",
    "\n",
    "    return z"
   ]
  },
  {
   "cell_type": "markdown",
   "id": "4f6354c1",
   "metadata": {},
   "source": [
    "The output of the cell below shows the correct manner in which inputs weights and biases should be combined to give outputs and then passed through activation functions to give activations of a layer. Note that the input for layer 2 is same as activation of layer 1 (shown at the end of output)."
   ]
  },
  {
   "cell_type": "code",
   "execution_count": 14,
   "id": "f4aff6e2",
   "metadata": {},
   "outputs": [
    {
     "name": "stdout",
     "output_type": "stream",
     "text": [
      "==========================================================\n",
      "Inputs for layer 1: tensor([ 1.5362,  0.0940, -0.7901])\n",
      "\n",
      "------------------------------------------------\n",
      "biases for layer 1: tensor([1., 1.]): \n",
      "\n",
      "------------------------------------------------\n",
      "Weights for layer 1: tensor([[ 1.3453,  0.3548,  0.5577],\n",
      "        [-0.0271,  0.4082, -0.5270]]):\n",
      "\n",
      "------------------------------------------------\n",
      "Outputs for layer 1: tensor([[2.6594],\n",
      "        [1.4132]])\n",
      "\n",
      "\n",
      "==========================================================\n",
      "Inputs for layer 2: tensor([0.9346, 0.8043])\n",
      "\n",
      "------------------------------------------------\n",
      "biases for layer 2: tensor([1.]): \n",
      "\n",
      "------------------------------------------------\n",
      "Weights for layer 2: tensor([[-0.8322],\n",
      "        [-0.4516]]):\n",
      "\n",
      "------------------------------------------------\n",
      "Outputs for layer 2: tensor([-0.1410])\n",
      "\n",
      "\n",
      "Activation for layer 1: \n",
      " tensor([[0.9346],\n",
      "        [0.8043]])\n",
      "Activation for output layer:  tensor([0.4648])\n"
     ]
    }
   ],
   "source": [
    "# we will store each layer's activations \n",
    "activ_layers = []\n",
    "\n",
    "weights = [weights_1, weights_2]\n",
    "\n",
    "# Forward pass\n",
    "z_1 = forward(1, inputs, weights[0], biases_1, print_summary= True) # output of first layer. 2X1\n",
    "a_1 = sigmoid(z_1)   # activation for first layer. 2X1\n",
    "activ_layers.append(a_1)\n",
    "\n",
    "z_2 = forward(2, a_1, weights[1], biases_2, print_summary= True)    # output of output layer. 1X1\n",
    "a_2 = sigmoid(z_2)    # activation for output layer. 1X1\n",
    "activ_layers.append(a_2)\n",
    "\n",
    "print('Activation for layer 1: \\n', a_1)\n",
    "print('Activation for output layer: ', a_2)"
   ]
  },
  {
   "cell_type": "markdown",
   "id": "8b1282fa",
   "metadata": {},
   "source": [
    "## Calculating loss  \n",
    "\n",
    "Inorder to train a neural network, we need to calculate a loss value for a given input value. The final loss value of a network is the average of loss values over the entire dataset. The squared error loss or mean square loss is shown below. It is one of many types of loss functions such as cross_entropy, log_loss, hinge_loss, etc.\n",
    "\n",
    "$$\\mathcal{Loss} =  \\frac{1}{n}\\sum_{i = 1}^n \\Big(\\hat{y}_i - y\\Big)^2$$\n",
    "\n",
    "where $\\hat{y}$ is the predicted value for a given input and $y$ is the actual value that we have in the training data."
   ]
  },
  {
   "cell_type": "code",
   "execution_count": 16,
   "id": "a3b77ca9",
   "metadata": {},
   "outputs": [],
   "source": [
    "def sq_loss(y_pred, y_actual):\n",
    "    '''\n",
    "    Returns the sq loss for a given tensor\n",
    "    x: tensor for which loss it to be evaluated\n",
    "    '''\n",
    "    return (y_pred-y_actual)**2"
   ]
  },
  {
   "cell_type": "code",
   "execution_count": 18,
   "id": "2af6bffb",
   "metadata": {},
   "outputs": [
    {
     "data": {
      "text/plain": [
       "tensor([0.2864])"
      ]
     },
     "execution_count": 18,
     "metadata": {},
     "output_type": "execute_result"
    }
   ],
   "source": [
    "loss = sq_loss(activ_layers[-1], 1) # we arbitarily choose actual y to be 1\n",
    "loss"
   ]
  },
  {
   "cell_type": "markdown",
   "id": "c1d728db",
   "metadata": {},
   "source": [
    "## Training  \n",
    "\n",
    "The next step is to learn how to train this network for a given pair of inputs and outputs.   \n",
    "We have the `forward()` method to calculate actiavtions and `sq_loss()` to calculate loss. We can now implement input batches and train the network. We need the following to do that:  \n",
    "\n",
    "- Compute the gradients w.r.t every parameter in our model. Note that this involves calculating gradient via the `chain rule` and hence actually involves gradients of various functions w.r.t intermediate outputs of layers. Don't worry if you don't get it now.\n",
    "\n",
    "\n",
    "- Implement Gradient descent (GD) step or take the gradients from the previous func and update the parameter. If you have no idea what GD is, please refer wikipedia. \n",
    "\n",
    "\n",
    "- A training loop which iterates over the number of `epochs`. Basically, epoch is the number of times the network sees the complete training set during training. In our case we only have one input which we will feed again and again for a number of iterations. This combined with changing the values of weights and biases will improve the performance of the model to predict $y$."
   ]
  },
  {
   "cell_type": "markdown",
   "id": "86b33a6b",
   "metadata": {},
   "source": [
    "To compute the gradients, we have three options:\n",
    "\n",
    "- Compute the gradients using loss.baclward(). This uses autograd(0 to calculate the gradients. (`Easiest way`)\n",
    "\n",
    "\n",
    "- Compute the gradient manually for each parameter in the model (small model so it can be done).  \n",
    "\n",
    "\n",
    "- Code autograd manually rather than using torch.autograd() (`toughest way` even for this small model)\n",
    "\n",
    "We will do all of them and that will take time!!  \n",
    "\n",
    "*Probably will avoid doing the last one. Feels like reinventing the wheel and also because it is insanely tough. This is after I have completed manually doing the gradient part. That too only for last layer parameters.*"
   ]
  },
  {
   "cell_type": "markdown",
   "id": "66f07ff7",
   "metadata": {},
   "source": [
    "## Computational graph of our small network  \n",
    "\n",
    "Note that we have now removed the activation in output layer i.e there is no $a^{[2]}$ and only $z^{[2]}$ exists. This is because we are using this network to predict y (which is real valued and take any value). However, when we use sigmoid in the output layer it squishes everything to between $0$ and $1$. It can never predict the actual value of $y$ which may be higher than $1$. Don't worry if you are confused. "
   ]
  },
  {
   "attachments": {
    "image-3.png": {
     "image/png": "[encoded data removed]"
    }
   },
   "cell_type": "markdown",
   "id": "1f8499cb",
   "metadata": {},
   "source": [
    "![image-3.png](attachment:image-3.png)"
   ]
  },
  {
   "cell_type": "markdown",
   "id": "27e6ded1",
   "metadata": {},
   "source": [
    "## Gradients in a neural network\n",
    "\n",
    "\n",
    "\n",
    "$$\\mathcal{L}(Loss) = f(\\text{output of neural network, actual output}) = f(\\mathbf{\\hat{y}}, \\mathbf{y})$$  \n",
    "\n",
    "In general, for the $n^{th}$ layer, (where $n$ means the output layer which is not a standard notation).\n",
    "$$\\text{Activations or } \\mathbf{a}^{[n]} = \\hat{y} = \\sigma(\\mathbf{z}^{[n]}) = \\frac{1}{1 + e^{-\\mathbf{z}^{[n]}}}$$  \n",
    "\n",
    "$$\\mathbf{z}^{[n]} = f(\\mathbf{W}^{[n]}, \\mathbf{a}^{[n-1]}, \\mathbf{b}^{[n]})$$  \n",
    "\n",
    "$$\\mathbf{z}^{[n]} =  \\mathbf{W}^{[n]}\\mathbf{a}^{[n-1]} + \\mathbf{b}^{[n]}$$  \n",
    "\n",
    "We expand the terms below, \n",
    "\n",
    "$$\\mathbf{a}^{[n-1]}  = \\big(a_{1}^{[n-1]}, a_{2}^{[n-1]}, .., a_{k}^{[n-1]}\\big)$$  \n",
    "\n",
    "$$\\mathbf{W}^{[n]} = \\begin{bmatrix}w_{11}^{[n]}&w_{12}^{[n]}&.&.&w_{1k}^{[n]}\\\\\n",
    "                                    w_{21}^{[n]}&w_{22}^{[n]}&.&.&w_{2k}^{[n]}\\\\\n",
    "                                    .&\\\\\n",
    "                                    .&\\\\\n",
    "                                    w_{j1}^{[n]}&w_{j2}^{[n]}&.&.&w_{jk}^{[n]}\\end{bmatrix}$$\n",
    "\n",
    "\n",
    "$$\\mathbf{z}^{[n]}  = \\big(z_{1}^{[n]},  z_{2}^{[n]}, . ., z_{k}^{[n]}\\big)$$  \n",
    "\n",
    "\n",
    "Notice the nested nature of outputs. Composite functions. For the output layer $L$, we can write,  \n",
    "\n",
    "$$\\mathcal{Loss} = f(\\hat{y}) = f(f(\\mathbf{a}^{[L]})) = f(f(f(\\mathbf{z}^{[L]}))) = f(f(f(f(\\mathbf{a}^{[L-1]}, \\mathbf{W}^{[L]}, \\mathbf{b}^{[L]}))))$$  \n",
    "\n",
    "This realization is extremly helpful to understand the process of training and how gradients are computed using chain rule. This also helps to appreciate the power of chain rule when evaluating gradients of such complex functions. In one line, neural networks are highly nested composite functions."
   ]
  },
  {
   "cell_type": "markdown",
   "id": "719c8487",
   "metadata": {},
   "source": [
    "#### To train the network, we need to compute gradient of loss w.r.t each of the weights and biases in each layer and update them according to an optimizer (right now we will manually do simple gradient descent ).  \n",
    "\n",
    "`For our network` with 3 inputs, 2 neurons in hidden layer (with sigmoid activation), and one neuron in output layer, we have,  \n",
    "\n",
    "$$\\mathcal{Loss} = f(z^{[2]}) = f(f(a_1^{[1]}, a_2^{[1]}, w_{11}^{[2]}, w_{12}^{[2]}, b^{[2]}))$$\n",
    "\n",
    "Refer the cell above to understand the nested nature of the functions.  \n",
    "\n",
    "Inorder to calculate the update the weights, we need to calculate the gradient of $\\mathcal{Loss}$ w.r.t each of the weights and biases. Here, we first consider the weights and biases of last layer. Here we only have one neuron in the last layer so we need not index the last layer's output and bias with (j,k). Thats why there is no $z_i^{[2]}$ and only $z^{[2]}$\n",
    "\n",
    "\n",
    "$$\\frac{\\partial{\\mathcal{Loss}}}{\\partial{w_{11}^{[2]}}} = \\frac{\\partial{\\mathcal{Loss}}}{\\partial{z^{[2]}}}*\\frac{\\partial{z^{[2]}}}{\\partial{w_{11}^{[2]}}}$$  \n",
    "\n",
    "$$\\frac{\\partial{\\mathcal{Loss}}}{\\partial{w_{12}^{[2]}}} = \\frac{\\partial{\\mathcal{Loss}}}{\\partial{z^{[2]}}}*\\frac{\\partial{z^{[2]}}}{\\partial{w_{12}^{[2]}}}$$  \n",
    "\n",
    "$$\\frac{\\partial{\\mathcal{Loss}}}{\\partial{b^{[2]}}} = \\frac{\\partial{\\mathcal{Loss}}}{\\partial{z^{[2]}}}*\\frac{\\partial{z^{[2]}}}{\\partial{b^{[2]}}}$$\n",
    "\n",
    "Now, we have the gradient of $\\mathcal{Loss}$ w.r.t each of the weights and biases in the last layer. The gradients w.r.t weights can be arranged in a vector called the `gradient vector`.  \n",
    "\n",
    "$$\\nabla_{\\mathbf{w}^{[2]}}\\mathcal{Loss} = \\begin{bmatrix}\\frac{\\partial{\\mathcal{Loss}}}{\\partial{w_{11}^{[2]}}}\\\\\n",
    "                                                    \\frac{\\partial{\\mathcal{Loss}}}{\\partial{w_{12}^{[2]}}}\\end{bmatrix}$$  \n",
    "Notice that the size of the gradient vector is same as the weight matrix for the last layer.   \n",
    "\n",
    "#### Gradient descent step for updating the weights of last layer  \n",
    "\n",
    "$$\\begin{bmatrix}w_{11}^{[2]}\\\\w_{12}^{[2]}\\end{bmatrix} = \\begin{bmatrix}w_{11}^{[2]}\\\\w_{12}^{[2]}\\end{bmatrix} - \\eta*\\nabla_{w^{[2]}}\\mathcal{Loss}$$ \n",
    "\n",
    "$$b^{[2]} = b^{[2]} - \\eta * \\frac{\\partial{\\mathcal{Loss}}}{\\partial{b^{[2]}}}$$"
   ]
  },
  {
   "cell_type": "markdown",
   "id": "3bb1d4d3",
   "metadata": {},
   "source": [
    "Now that we have covered the theoretical aspects let us cover the actual stuff. It may be helpful to find the gradients yourself using pen and paper. Trust me it really helps. However, that does not guarantee successful implementation in one go. It took quite some time to make it work. \n",
    "- Initially, I used sigmoid activation and wondered why loss is not improving (even after trying everything).\n",
    "- There was some issue with shapes. (this is the most common thing in DL when working with pytorch or tf. It is torturous. \n",
    "- Concatenating weights from layer to one to form gradient vector also caused a ripple effect of errros. took time to debug.\n",
    "\n",
    "However, now that everything is working, lets get into it."
   ]
  },
  {
   "cell_type": "code",
   "execution_count": 19,
   "id": "e130a0f2",
   "metadata": {
    "scrolled": true
   },
   "outputs": [
    {
     "data": {
      "text/plain": [
       "(torch.Size([3, 1]), torch.Size([1]))"
      ]
     },
     "execution_count": 19,
     "metadata": {},
     "output_type": "execute_result"
    }
   ],
   "source": [
    "# single input (later we will implement in batches)\n",
    "x = torch.randn(3, 1)\n",
    "\n",
    "# simulated output or ground truth\n",
    "y = 10 + 0.2*x[0] + 0.5*x[1] + x[2]\n",
    "\n",
    "x.shape, y.shape"
   ]
  },
  {
   "cell_type": "markdown",
   "id": "47bd6822",
   "metadata": {},
   "source": [
    "#### Initializing weights randomly"
   ]
  },
  {
   "cell_type": "code",
   "execution_count": 47,
   "id": "fde43419",
   "metadata": {},
   "outputs": [
    {
     "name": "stdout",
     "output_type": "stream",
     "text": [
      "torch.Size([2, 3]) torch.Size([2, 1])\n"
     ]
    }
   ],
   "source": [
    "# weights of first layer\n",
    "weights_1 = torch.randn(2,3)\n",
    "\n",
    "# weights of second layer\n",
    "weights_2 = torch.randn(2, 1)\n",
    "\n",
    "# biases of first layer\n",
    "biases_1 = torch.ones(2, 1)\n",
    "\n",
    "# biases of second layer\n",
    "biases_2 = torch.ones(1, 1)\n",
    "\n",
    "print(weights_1.shape, weights_2.shape)"
   ]
  },
  {
   "cell_type": "markdown",
   "id": "70bf268b",
   "metadata": {},
   "source": [
    "## Analytical gradient and training implementation"
   ]
  },
  {
   "cell_type": "code",
   "execution_count": 48,
   "id": "4bc10e5e",
   "metadata": {},
   "outputs": [
    {
     "name": "stdout",
     "output_type": "stream",
     "text": [
      "Iteration: 1    Loss: 86.10469818115234    y_pred: 1.1844923496246338    y_actual: 10.463753700256348\n",
      "\n",
      "\n",
      "Iteration: 2    Loss: 18.576974868774414    y_pred: 6.153652191162109    y_actual: 10.463753700256348\n",
      "\n",
      "\n",
      "Iteration: 3    Loss: 4.007961273193359    y_pred: 8.461764335632324    y_actual: 10.463753700256348\n",
      "\n",
      "\n",
      "Iteration: 4    Loss: 0.8647143244743347    y_pred: 9.533853530883789    y_actual: 10.463753700256348\n",
      "\n",
      "\n",
      "Iteration: 5    Loss: 0.18655987083911896    y_pred: 10.031827926635742    y_actual: 10.463753700256348\n",
      "\n",
      "\n",
      "Iteration: 6    Loss: 0.04025017470121384    y_pred: 10.263129234313965    y_actual: 10.463753700256348\n",
      "\n",
      "\n",
      "Iteration: 7    Loss: 0.00868405681103468    y_pred: 10.370565414428711    y_actual: 10.463753700256348\n",
      "\n",
      "\n",
      "Iteration: 8    Loss: 0.0018735406920313835    y_pred: 10.420469284057617    y_actual: 10.463753700256348\n",
      "\n",
      "\n",
      "Iteration: 9    Loss: 0.0004041872452944517    y_pred: 10.443649291992188    y_actual: 10.463753700256348\n",
      "\n",
      "\n",
      "Iteration: 10    Loss: 8.722313214093447e-05    y_pred: 10.454414367675781    y_actual: 10.463753700256348\n",
      "\n",
      "\n"
     ]
    }
   ],
   "source": [
    "# Training loop\n",
    "# Calculate output of last layer for given weights and biases.\n",
    "# Calculate the loss between the predicted y and true y\n",
    "# Calculate the gradients of loss w.r.t weights and bias of LAST LAYER ONLY (For now)\n",
    "# update the weights and bias for last layer\n",
    "\n",
    "for iter in range(10):\n",
    "    \n",
    "    #=================Forward pass=================\n",
    "    \n",
    "    # first layer\n",
    "    z_1 = forward(1, x, weights_1, biases_1)\n",
    "    a_1 = sigmoid(z_1)\n",
    "\n",
    "    # second layer\n",
    "    z_2 = forward(2, a_1, weights_2, biases_2)\n",
    "    y_pred = z_2\n",
    "    \n",
    "    # =======Loss for current iteration========\n",
    "    loss = sq_loss(y_pred.ravel(), y.ravel())\n",
    "    print('Iteration: {}    Loss: {}    y_pred: {}    y_actual: {}\\n\\n'.format(iter+1, loss.item(),\n",
    "                                                                               y_pred.item(), y.item()))\n",
    "    \n",
    "    \n",
    "    # =================Backward pass====================\n",
    "    dloss_dz2 = 2*(y_pred - y)\n",
    "    \n",
    "    dz2_dw11_2 = a_1[0]  # value comes out to be first neruon's activation in first layer\n",
    "\n",
    "    dz2_dw12_2 = a_1[1]  # value comes out to be second neuron's activation in first layer\n",
    "    \n",
    "    dz2_db_2 = 1   # this is z_2 derivative w.r.t b^[2] or bias of single neuron in last layer\n",
    "    \n",
    "    # derivative of loss w.r.t w_11^{[2]} i.e the derivative of loss w.r.t first weight of last layer\n",
    "    dloss_dw11_2 = dloss_dz2 * dz2_dw11_2   \n",
    "\n",
    "    # derivative of loss w.r.t w_12^{[2]}\n",
    "    dloss_dw12_2 = dloss_dz2 * dz2_dw12_2\n",
    "\n",
    "    # derivative of loss w.r.t b^{[2]}\n",
    "    dloss_db_2 = dloss_dz2 * dz2_db_2\n",
    "    \n",
    "\n",
    "    # simply using concatenate was creating a tensor of size[2] which was being broadcasted and was changing shape of \n",
    "    # loss to [2, 1]!!!. then that led to weights_2 being changed. Ripple effect.\n",
    "    \n",
    "    loss_grad_w2 = torch.concatenate([dloss_dw11_2, dloss_dw12_2], axis = 0).reshape(2, 1) # Reshape resolved it!! one simple word \n",
    "    loss_grad_b2 = dloss_db_2\n",
    "    \n",
    "    \n",
    "    # ==========Updating weights for last layer according to gradients===========\n",
    "    weights_2 -= 0.1* loss_grad_w2\n",
    "\n",
    "    biases_2 -=  0.1 * loss_grad_b2\n",
    "    "
   ]
  },
  {
   "cell_type": "markdown",
   "id": "6f8d1d60",
   "metadata": {},
   "source": [
    "## Same neural network with torch.nn and using backprop() for training"
   ]
  },
  {
   "cell_type": "code",
   "execution_count": 49,
   "id": "6bb27f0f",
   "metadata": {},
   "outputs": [],
   "source": [
    "class Simple_nn(torch.nn.Module):\n",
    "    '''\n",
    "    \n",
    "    Implements a simple neural network with one hidden layer with two neurons and one output neuron. \n",
    "    The hidden layer has sigmoid activation.\n",
    "    '''\n",
    "    \n",
    "    def __init__(self, input, n_hidden, output):\n",
    "        \n",
    "        super(Simple_nn, self).__init__()\n",
    "        \n",
    "        self.linear1 = torch.nn.Linear(input, n_hidden)\n",
    "        print(self.linear1.weight)    # weights of first layer. W^[1]\n",
    "        \n",
    "        self.linear2 = torch.nn.Linear(n_hidden, output)\n",
    "#         print(self.linear2.weight)    # weights of output layer. W^[2]\n",
    "        \n",
    "    def forward(self,x):\n",
    "        x = torch.sigmoid(self.linear1(x))\n",
    "        \n",
    "        x = self.linear2(x)\n",
    "        \n",
    "        return x"
   ]
  },
  {
   "cell_type": "code",
   "execution_count": 50,
   "id": "556c829a",
   "metadata": {},
   "outputs": [
    {
     "name": "stdout",
     "output_type": "stream",
     "text": [
      "Parameter containing:\n",
      "tensor([[-0.4704,  0.0956, -0.3594],\n",
      "        [ 0.3152, -0.3943, -0.2815]], requires_grad=True)\n"
     ]
    }
   ],
   "source": [
    "input_dim = 3    # number of inputs\n",
    "hidden_dim = 2   # number of neurons in hidden layer\n",
    "output_dim = 1   # number of neuron in output layer\n",
    "\n",
    "net = Simple_nn(input_dim, hidden_dim, output_dim)"
   ]
  },
  {
   "cell_type": "code",
   "execution_count": 34,
   "id": "634cff88",
   "metadata": {},
   "outputs": [],
   "source": [
    "loss_criteria = torch.nn.MSELoss()   # define the loss to be used. However, we will use the function we have written above"
   ]
  },
  {
   "cell_type": "code",
   "execution_count": 51,
   "id": "5625b241",
   "metadata": {},
   "outputs": [],
   "source": [
    "# Training\n",
    "\n",
    "learning_rate = 1e-1\n",
    "loss_list = []\n",
    "for t in range(10):\n",
    "    y_pred = net(x.T)  # was not working without doing Transpose. Mat mul error was coming.\n",
    "    \n",
    "    loss = sq_loss(y_pred, y)\n",
    "    loss_list.append(loss.item())\n",
    "    \n",
    "    net.zero_grad()   # clearing the graidents from previous iteration\n",
    "    loss.backward()   # backproagation evaluates the gradients according the comp graph built by autograd()\n",
    "    \n",
    "    with torch.no_grad():\n",
    "        for param in net.parameters(): # iterate over the parameters\n",
    "            param -= learning_rate * param.grad   # update the values of parameters based on gradients"
   ]
  },
  {
   "cell_type": "code",
   "execution_count": 52,
   "id": "41137a7b",
   "metadata": {
    "scrolled": false
   },
   "outputs": [
    {
     "data": {
      "text/plain": [
       "Text(0, 0.5, '$\\\\mathcal{Loss}$')"
      ]
     },
     "execution_count": 52,
     "metadata": {},
     "output_type": "execute_result"
    },
    {
     "data": {
      "image/png": "[encoded data removed]",
      "text/plain": [
       "<Figure size 640x480 with 1 Axes>"
      ]
     },
     "metadata": {},
     "output_type": "display_data"
    }
   ],
   "source": [
    "plt.plot(range(10), loss_list)\n",
    "plt.xlabel('Iterations or Epochs')\n",
    "plt.ylabel('$\\mathcal{Loss}$')"
   ]
  },
  {
   "cell_type": "code",
   "execution_count": 54,
   "id": "f490f09b",
   "metadata": {},
   "outputs": [
    {
     "data": {
      "text/plain": [
       "tensor([0.0003], grad_fn=<SelectBackward0>)"
      ]
     },
     "execution_count": 54,
     "metadata": {},
     "output_type": "execute_result"
    }
   ],
   "source": [
    "loss[-1]"
   ]
  },
  {
   "cell_type": "markdown",
   "id": "58c8b6fa",
   "metadata": {},
   "source": [
    "So, we have now applied both torch.nn.Module and just torch tensors to build simple neural network. We tested the network with a single input of $[3, 1]$ and a single scalar output. However, in reality, inputs to neural networks are passed in batches and the gradients are calculated on batches and weights are updated after each iteration. We shall look at this aspect and try to implement this in raw torch and also using torch.nn. We will elaborate on autograd() and backprop() to reveal some things under the hood. It is messy!"
   ]
  }
 ],
 "metadata": {
  "kernelspec": {
   "display_name": "Python 3",
   "language": "python",
   "name": "python3"
  },
  "language_info": {
   "codemirror_mode": {
    "name": "ipython",
    "version": 3
   },
   "file_extension": ".py",
   "mimetype": "text/x-python",
   "name": "python",
   "nbconvert_exporter": "python",
   "pygments_lexer": "ipython3",
   "version": "3.9.13"
  }
 },
 "nbformat": 4,
 "nbformat_minor": 5
}
