{
 "cells": [
  {
   "cell_type": "code",
   "execution_count": 540,
   "id": "201ebd70",
   "metadata": {},
   "outputs": [],
   "source": [
    "import numpy as np\n",
    "import torch\n",
    "import math\n",
    "import matplotlib.pyplot as plt"
   ]
  },
  {
   "cell_type": "markdown",
   "id": "edc7739c",
   "metadata": {},
   "source": [
    "# Implementing simple neural network  \n",
    "\n",
    "- Implement simple neural network with torch\n",
    "- Understand basics of how inputs, weights, and biases are combined to form outputs.\n",
    "- Understand how to work with tensors (not exactly same as numpy vectors). Get comfortable\n",
    "- Understand how activations are calculated for a single input and a single layer  \n"
   ]
  },
  {
   "cell_type": "markdown",
   "id": "0deb0845",
   "metadata": {},
   "source": [
    "## Define a neural net (without using nn.Module)  \n",
    "\n",
    "- Here we do not use torch.nn.Module\n",
    "\n",
    "A simple neural network with 2 layers: first with 2 neurons and second with 1 neuron. The output is 1X1 and input is 3X1. \n",
    "\n",
    "\n",
    "The weight matrix for first layer is shown below with three elements in each row. Each element $w_{jk}^{[1]}$ is the $k^{th}$ weight of the $j^{th}$ neuron in first layer. So, $w_{23}^{[1]}$ is the third weight of the second neuron in the first layer.  \n",
    "\n",
    "The second weight matrix consists of two elements only. Since there are only two neurons in the previous layer and one neuron in the second layer."
   ]
  },
  {
   "cell_type": "markdown",
   "id": "db60c706",
   "metadata": {},
   "source": [
    "$$\\mathbf{W}^{[1]} = \\begin{bmatrix}w_{11}^{[1]}&w_{12}^{[1]}&w_{13}^{[1]}\\\\\n",
    "                 w_{21}^{[1]}&w_{22}^{[1]}&w_{23}^{[1]}\\\\\n",
    "                 \\end{bmatrix}$$  \n",
    "$$\\mathbf{W}^{[2]} = \\begin{bmatrix}w_{11}^{[2]}&w_{12}^{[2]}\n",
    "                 \\end{bmatrix}$$"
   ]
  },
  {
   "cell_type": "code",
   "execution_count": 344,
   "id": "f4b4126d",
   "metadata": {},
   "outputs": [
    {
     "name": "stdout",
     "output_type": "stream",
     "text": [
      "torch.Size([2, 3]) torch.Size([2, 1])\n"
     ]
    }
   ],
   "source": [
    "# weights of first layer\n",
    "weights_1 = torch.randn(2,3)\n",
    "# weights_1.requires_grad_()\n",
    "\n",
    "# weights of second layer\n",
    "weights_2 = torch.randn(2, 1)\n",
    "# weights_2.requires_grad_()\n",
    "\n",
    "# biases of first layer\n",
    "biases_1 = torch.ones(2, 1, requires_grad=False)\n",
    "\n",
    "# biases of second layer\n",
    "biases_2 = torch.ones(1, 1, requires_grad=False)\n",
    "\n",
    "print(weights_1.shape, weights_2.shape)"
   ]
  },
  {
   "cell_type": "code",
   "execution_count": 153,
   "id": "c697e7c9",
   "metadata": {},
   "outputs": [
    {
     "name": "stdout",
     "output_type": "stream",
     "text": [
      "torch.Size([3, 1])\n"
     ]
    }
   ],
   "source": [
    "# single input (later we will do with batches)\n",
    "inputs = torch.randn(3,1)\n",
    "print(inputs.shape)"
   ]
  },
  {
   "cell_type": "markdown",
   "id": "1820f90d",
   "metadata": {},
   "source": [
    "## Activation function"
   ]
  },
  {
   "cell_type": "code",
   "execution_count": 292,
   "id": "d125d262",
   "metadata": {},
   "outputs": [],
   "source": [
    "def relu(x):\n",
    "    '''\n",
    "    Implements ReLU acitvation function\n",
    "    Returns the ReLU output\n",
    "    '''\n",
    "    return x* (x>0)\n",
    "\n",
    "def sigmoid(x):\n",
    "    '''\n",
    "    Implements sigmoid activation\n",
    "    Returns the sigmoid(x)\n",
    "    '''\n",
    "    return 1/(1 + np.exp(-(x.detach())))"
   ]
  },
  {
   "cell_type": "markdown",
   "id": "7d89101e",
   "metadata": {},
   "source": [
    "## Model  \n",
    "\n",
    "The `forward()` function had a major issue that is highlighted in comments (see discarded code at the end). Very subtle to detect especially since I have never manually coded a neural network in raw torch and numpy"
   ]
  },
  {
   "cell_type": "markdown",
   "id": "0843a872",
   "metadata": {},
   "source": [
    "## Potentially better `forward` method  and way to use it  \n",
    "\n",
    "This function returns the output of a neuron and not the activation layer. We write the activation separately."
   ]
  },
  {
   "cell_type": "code",
   "execution_count": 262,
   "id": "02b6cf3e",
   "metadata": {},
   "outputs": [],
   "source": [
    "def forward(layer, inputs, weights, biases, print_summary = False):\n",
    "    '''\n",
    "    Calculates forward pass for a single layer model (here with 2 inputs and three neurons)  \n",
    "    \n",
    "    inputs: Inputs (tensor)\n",
    "    \n",
    "    weights: weights of neurons in the layer (tensor)\n",
    "    \n",
    "    biases: biases of neurons the layer (tensor)\n",
    "    \n",
    "    activ: activation function (function)\n",
    "    \n",
    "    layer: Number of layers. This is not removed from the above forward function so that we can print info layerwise.\n",
    "    \n",
    "    Returns the output of a layer as a tensor\n",
    "    '''\n",
    "    if print_summary == True:\n",
    "        \n",
    "        print('==========================================================')\n",
    "        print('Inputs for layer {}: {}\\n'.format(layer, inputs.ravel()))\n",
    "\n",
    "        print('------------------------------------------------')\n",
    "        print('biases for layer {}: {}: \\n'.format(layer, biases.ravel()))\n",
    "\n",
    "        print('------------------------------------------------')\n",
    "        print('Weights for layer {}: {}:\\n'.format(layer, weights))\n",
    "\n",
    "    if weights.shape[1]>1: # for layers which have proper weight matrices (nxm) and not single row of weights\n",
    "        z = weights@inputs + biases    \n",
    "\n",
    "    else:\n",
    "        z = torch.dot(weights.ravel(), inputs.ravel()) + biases.ravel()  # for last layer whose weight matrix is actually a vector\n",
    "    if print_summary == True:\n",
    "        print('------------------------------------------------')\n",
    "        print('Outputs for layer {}: {}\\n\\n'.format(layer, z))\n",
    "\n",
    "    return z"
   ]
  },
  {
   "cell_type": "markdown",
   "id": "4f6354c1",
   "metadata": {},
   "source": [
    "The output of the cell below shows the correct manner in which inputs weights and biases should be combined to give outputs and then passed through activation functions to give activations of a layer. Note that the input for layer 2 is same as activation of layer 1."
   ]
  },
  {
   "cell_type": "code",
   "execution_count": 293,
   "id": "f4aff6e2",
   "metadata": {},
   "outputs": [
    {
     "name": "stdout",
     "output_type": "stream",
     "text": [
      "==========================================================\n",
      "Inputs for layer 1: tensor([-0.1929, -0.3592,  0.3254])\n",
      "\n",
      "------------------------------------------------\n",
      "biases for layer 1: tensor([1.], grad_fn=<ViewBackward0>): \n",
      "\n",
      "------------------------------------------------\n",
      "Weights for layer 1: tensor([[-0.3835, -0.3507, -0.7801],\n",
      "        [ 0.4779, -1.7902, -0.2003]]):\n",
      "\n",
      "------------------------------------------------\n",
      "Outputs for layer 1: tensor([[0.9461],\n",
      "        [1.4858]], grad_fn=<AddBackward0>)\n",
      "\n",
      "\n",
      "==========================================================\n",
      "Inputs for layer 2: tensor([0.7203, 0.8154])\n",
      "\n",
      "------------------------------------------------\n",
      "biases for layer 2: tensor([1.], grad_fn=<ViewBackward0>): \n",
      "\n",
      "------------------------------------------------\n",
      "Weights for layer 2: tensor([[ 0.2145],\n",
      "        [-0.7346]]):\n",
      "\n",
      "------------------------------------------------\n",
      "Outputs for layer 2: tensor([0.5555], grad_fn=<AddBackward0>)\n",
      "\n",
      "\n",
      "tensor([[0.7203],\n",
      "        [0.8154]])\n",
      "tensor([0.6354])\n"
     ]
    }
   ],
   "source": [
    "# we will store each layer's activations \n",
    "activ_layers = []\n",
    "\n",
    "# single input (later we will do with batches)\n",
    "# inputs = torch.randn(3,1)\n",
    "\n",
    "weights = [weights_1, weights_2]\n",
    "\n",
    "# Forward pass\n",
    "z_1 = forward(1, inputs, weights[0], biases[0], print_summary= True)\n",
    "a_1 = sigmoid(z_1)\n",
    "activ_layers.append(a_1)\n",
    "\n",
    "z_2 = forward(2, a_1, weights[1], biases[1], print_summary= True)\n",
    "a_2 = sigmoid(z_2)\n",
    "activ_layers.append(a_2)\n",
    "\n",
    "print(a_1)\n",
    "print(a_2)"
   ]
  },
  {
   "cell_type": "markdown",
   "id": "8b1282fa",
   "metadata": {},
   "source": [
    "## Calculating loss  \n",
    "\n",
    "Inorder to train a neural network, we need to train the network to calculate a loss value for a given input value. The final loss value of a network is the average of loss values over the entire dataset. The squared error loss or mean square loss is shown below. It is one of many types of loss functions such as cross_entropy, log_loss, hinge_loss, etc.\n",
    "\n",
    "$$\\mathcal{Loss} =  \\frac{1}{n}\\sum_{i = 1}^n \\Big(\\hat{y}_i - y\\Big)^2$$"
   ]
  },
  {
   "cell_type": "code",
   "execution_count": 232,
   "id": "a3b77ca9",
   "metadata": {},
   "outputs": [],
   "source": [
    "def sq_loss(y_pred, y_actual):\n",
    "    '''\n",
    "    Returns the sq loss for a given tensor\n",
    "    x: tensor for which loss it to be evaluated\n",
    "    '''\n",
    "    return (y_pred-y_actual)"
   ]
  },
  {
   "cell_type": "code",
   "execution_count": 261,
   "id": "e0516f1b",
   "metadata": {},
   "outputs": [
    {
     "data": {
      "text/plain": [
       "tensor([[0.8826],\n",
       "        [0.8975]])"
      ]
     },
     "execution_count": 261,
     "metadata": {},
     "output_type": "execute_result"
    }
   ],
   "source": [
    "y_pred"
   ]
  },
  {
   "cell_type": "code",
   "execution_count": 175,
   "id": "2af6bffb",
   "metadata": {},
   "outputs": [
    {
     "data": {
      "text/plain": [
       "tensor([0.0111])"
      ]
     },
     "execution_count": 175,
     "metadata": {},
     "output_type": "execute_result"
    }
   ],
   "source": [
    "loss = sq_loss(activ_layers[-1], 1) # we arbitarily choose actual y to be 1\n",
    "loss"
   ]
  },
  {
   "cell_type": "markdown",
   "id": "c1d728db",
   "metadata": {},
   "source": [
    "## Training  \n",
    "\n",
    "The next step is to learn how to train this network for a given pair of inputs and outputs.   \n",
    "We have the forward() method to calculate actiavtions and sq_loss() to calculate loss. We can now inmplement input batches and train the network. We need the following to do that:\n",
    "- A function that will compute the gradients w.r.t every parameter in our model. Note that this involves calculating gradient via the `chain rule` and hence actually involves gradients of various functions w.r.t intermediate outputs.\n",
    "\n",
    "\n",
    "- A function that will implement SGD or take the gradients from the previous func and update the parameter  \n",
    "\n",
    "\n",
    "- A training loop"
   ]
  },
  {
   "cell_type": "markdown",
   "id": "86b33a6b",
   "metadata": {},
   "source": [
    "To compute the gradients, we have three options:\n",
    "\n",
    "- Compute the gradients using torch.autograd() (`Easiest way`)\n",
    "\n",
    "\n",
    "- Compute the gradient manually for each parameter in the model (small model so it is doable)  \n",
    "\n",
    "\n",
    "- Code autograd for this model manually rather than using torch.autograd() (`toughest way`)\n",
    "\n",
    "We will do all of them and that will take time!!  \n",
    "\n",
    "*Probably will avoid doing the last one. Feels like reinventing the wheel and also because it is insanely tough. This is after I have completed manually doing the gradient part. That too only for last layer parameters*"
   ]
  },
  {
   "cell_type": "markdown",
   "id": "66f07ff7",
   "metadata": {},
   "source": [
    "## Computational graph of our small network"
   ]
  },
  {
   "attachments": {
    "image.png": {
     "image/png": "[encoded data removed]"
    }
   },
   "cell_type": "markdown",
   "id": "1f8499cb",
   "metadata": {},
   "source": [
    "![image.png](attachment:image.png)"
   ]
  },
  {
   "cell_type": "markdown",
   "id": "27e6ded1",
   "metadata": {},
   "source": [
    "## Gradients in a neural network\n",
    "\n",
    "\n",
    "\n",
    "$$\\mathcal{L}(Loss) = f(\\text{activations of last layer and actual output}) = f(\\mathbf{y}, \\mathbf{\\hat{y}})$$  \n",
    "\n",
    "In general, for the $L^{th}$ layer, $$\\text{Activations or } \\mathbf{a}^{[L]} = \\hat{\\mathbf{y}} = \\sigma(\\mathbf{z}^{[L]}) = \\frac{1}{1 + e^{-\\mathbf{z}^{[L]}}}$$  \n",
    "\n",
    "$$\\mathbf{z}^{[L]} = f(\\mathbf{W}^{[L]}, \\mathbf{a}^{[L-1]}, \\mathbf{b}^{[L]})$$  \n",
    "\n",
    "$$\\mathbf{z}^{[L]} =  \\mathbf{W}^{[L]}\\mathbf{a}^{[L-1]} + \\mathbf{b}^{[L]}$$  \n",
    "\n",
    "We expand the terms below, \n",
    "\n",
    "$$\\mathbf{a}^{[L-1]}  = \\big(a_{1}^{[L-1]}, a_{2}^{[L-1]}, .., a_{k}^{[L-1]}\\big)$$  \n",
    "\n",
    "$$\\mathbf{W}^{[L]} = \\begin{bmatrix}w_{11}^{[L]}&w_{12}^{[L]}&.&.&w_{1k}^{[L]}\\\\\n",
    "                                    w_{21}^{[L]}&w_{22}^{[L]}&.&.&w_{2k}^{[L]}\\\\\n",
    "                                    .&\\\\\n",
    "                                    .&\\\\\n",
    "                                    w_{j1}^{[L]}&w_{j2}^{[L]}&.&.&w_{jk}^{[L]}\\end{bmatrix}$$\n",
    "\n",
    "\n",
    "$$\\mathbf{z}^{[L]}  = \\big(z_{1}^{[L]},  z_{2}^{[L]}, . ., z_{k}^{[L]}\\big)$$\n"
   ]
  },
  {
   "cell_type": "markdown",
   "id": "719c8487",
   "metadata": {},
   "source": [
    "#### To train the network, we need to compute gradients w.r.t each of the weights and biases in each layer and update them according to gradient descent algorithm.  \n",
    "\n",
    "`For our network` with 3 inputs, 2 neurons in first layer (with sigmoid activation), and one neuron in output layer, we have,  \n",
    "\n",
    "$$\\mathcal{Loss} = f(z^{[2]}) = f(f(w_{11}^{[2]}, w_{12}^{[2]}))$$\n",
    "\n",
    "Refer the figure above to understand the nested nature of the functions.  \n",
    "\n",
    "Inorder to calculate the update the weigths, we need to calculate the gradient of $\\mathcal{Loss}$ w.r.t each of the weights and biases. Here, we first consider the weights and biases of last layer. Here we only have one neuron in the last layer so we need not index the last layer's output and bias with (j,k). Thats why there is no $z_i^{[2]}$ and only $z^{[2]}$\n",
    "\n",
    "\n",
    "$$\\frac{\\partial{\\mathcal{Loss}}}{\\partial{w_{11}^{[2]}}} = \\frac{\\partial{\\mathcal{Loss}}}{\\partial{z^{[2]}}}*\\frac{\\partial{z^{[2]}}}{\\partial{w_{11}^{[2]}}}$$  \n",
    "\n",
    "$$\\frac{\\partial{\\mathcal{Loss}}}{\\partial{w_{12}^{[2]}}} = \\frac{\\partial{\\mathcal{Loss}}}{\\partial{z^{[2]}}}*\\frac{\\partial{z^{[2]}}}{\\partial{w_{12}^{[2]}}}$$  \n",
    "\n",
    "$$\\frac{\\partial{\\mathcal{Loss}}}{\\partial{b^{[2]}}} = \\frac{\\partial{\\mathcal{Loss}}}{\\partial{z^{[2]}}}*\\frac{\\partial{z^{[2]}}}{\\partial{b^{[2]}}}$$\n",
    "\n",
    "Now, we have the gradient of $\\mathcal{Loss}$ w.r.t ecah of the weights and biases in the last layer. This can be arranged in a vector called the `gradient vector`.  \n",
    "\n",
    "$$\\nabla_{\\mathbf{w}^{[2]}}\\mathcal{Loss} = \\begin{bmatrix}\\frac{\\partial{\\mathcal{Loss}}}{\\partial{w_{11}^{[2]}}}\\\\\n",
    "                                                    \\frac{\\partial{\\mathcal{Loss}}}{\\partial{w_{12}^{[2]}}}\\end{bmatrix}$$  \n",
    "Notice that the size of the gradient vector is same as the weight matrix for the last layer.   \n",
    "\n",
    "#### Gradient descent step for updating the weights of last layer  \n",
    "\n",
    "$$\\begin{bmatrix}w_{11}^{[2]}\\\\w_{12}^{[2]}\\end{bmatrix} = \\begin{bmatrix}w_{11}^{[2]}\\\\w_{12}^{[2]}\\end{bmatrix} - \\eta*\\nabla_{w^{[2]}}\\mathcal{Loss}$$ "
   ]
  },
  {
   "cell_type": "code",
   "execution_count": 400,
   "id": "e130a0f2",
   "metadata": {
    "scrolled": true
   },
   "outputs": [
    {
     "data": {
      "text/plain": [
       "(torch.Size([3, 1]), torch.Size([1]))"
      ]
     },
     "execution_count": 400,
     "metadata": {},
     "output_type": "execute_result"
    }
   ],
   "source": [
    "# single input (later we will implement in batches)\n",
    "x = torch.randn(3, 1)\n",
    "\n",
    "# simulated output or ground truth\n",
    "y = 10 + 0.2*x[0] + 0.5*x[1] + x[2]\n",
    "\n",
    "x.shape, y.shape"
   ]
  },
  {
   "cell_type": "markdown",
   "id": "47bd6822",
   "metadata": {},
   "source": [
    "#### Initializing weights randomly"
   ]
  },
  {
   "cell_type": "code",
   "execution_count": 466,
   "id": "fde43419",
   "metadata": {},
   "outputs": [
    {
     "name": "stdout",
     "output_type": "stream",
     "text": [
      "torch.Size([2, 3]) torch.Size([2, 1])\n"
     ]
    }
   ],
   "source": [
    "# weights of first layer\n",
    "weights_1 = torch.randn(2,3)\n",
    "# weights_1.requires_grad_()\n",
    "\n",
    "# weights of second layer\n",
    "weights_2 = torch.randn(2, 1)\n",
    "# weights_2.requires_grad_()\n",
    "\n",
    "# biases of first layer\n",
    "biases_1 = torch.ones(2, 1, requires_grad=False)\n",
    "\n",
    "# biases of second layer\n",
    "biases_2 = torch.ones(1, 1, requires_grad=False)\n",
    "\n",
    "print(weights_1.shape, weights_2.shape)"
   ]
  },
  {
   "cell_type": "markdown",
   "id": "70bf268b",
   "metadata": {},
   "source": [
    "## Analytical gradient training implementation"
   ]
  },
  {
   "cell_type": "code",
   "execution_count": 467,
   "id": "4bc10e5e",
   "metadata": {},
   "outputs": [
    {
     "name": "stdout",
     "output_type": "stream",
     "text": [
      "Iteration: 1    Loss: 86.8366928100586    y_pred: 1.2317112684249878    y_actual: 10.550332069396973\n",
      "\n",
      "\n",
      "Iteration: 2    Loss: 27.845796585083008    y_pred: 5.273420333862305    y_actual: 10.550332069396973\n",
      "\n",
      "\n",
      "Iteration: 3    Loss: 8.929271697998047    y_pred: 7.562143325805664    y_actual: 10.550332069396973\n",
      "\n",
      "\n",
      "Iteration: 4    Loss: 2.8633365631103516    y_pred: 8.858192443847656    y_actual: 10.550332069396973\n",
      "\n",
      "\n",
      "Iteration: 5    Loss: 0.9181810021400452    y_pred: 9.592114448547363    y_actual: 10.550332069396973\n",
      "\n",
      "\n",
      "Iteration: 6    Loss: 0.2944309711456299    y_pred: 10.00771713256836    y_actual: 10.550332069396973\n",
      "\n",
      "\n",
      "Iteration: 7    Loss: 0.09441547095775604    y_pred: 10.243061065673828    y_actual: 10.550332069396973\n",
      "\n",
      "\n",
      "Iteration: 8    Loss: 0.030275925993919373    y_pred: 10.37633228302002    y_actual: 10.550332069396973\n",
      "\n",
      "\n",
      "Iteration: 9    Loss: 0.009708312340080738    y_pred: 10.451801300048828    y_actual: 10.550332069396973\n",
      "\n",
      "\n",
      "Iteration: 10    Loss: 0.003113263053819537    y_pred: 10.494535446166992    y_actual: 10.550332069396973\n",
      "\n",
      "\n"
     ]
    }
   ],
   "source": [
    "# Training loop\n",
    "# Calculate output/activations of last layer for a given weights and biases.\n",
    "# calculate the loss between the current y and true y\n",
    "# calculate the gradients of loss w.r.t weights and bias of LAST LAYER ONLY (For now)\n",
    "# update the weights and bias for last layer\n",
    "\n",
    "for iter in range(10):\n",
    "    \n",
    "    #=================Forward pass=================\n",
    "    \n",
    "    # first layer\n",
    "    z_1 = forward(1, x, weights_1, biases_1)\n",
    "    a_1 = sigmoid(z_1)\n",
    "\n",
    "    # second layer\n",
    "    z_2 = forward(2, a_1, weights_2, biases_2)\n",
    "    y_pred = z_2\n",
    "    # By mistake was using sigmoid at the last neuron and then wondered why the y_pred is stuck at 1.0. Sigmoid o/p is [0,1]\n",
    "    \n",
    "    # =======Loss for current iteration========\n",
    "    loss = sq_loss(y_pred.ravel(), y.ravel())\n",
    "    print('Iteration: {}    Loss: {}    y_pred: {}    y_actual: {}\\n\\n'.format(iter+1, loss.item(), y_pred.item(), y.item()))\n",
    "    \n",
    "    \n",
    "    \n",
    "    # =================Backward pass====================\n",
    "    dloss_dz2 = 2*(y_pred - y)\n",
    "    \n",
    "    dz2_dw11_2 = a_1[0]  # this is the first neruon's activation in first layer\n",
    "\n",
    "    dz2_dw12_2 = a_1[1]  # this is the second neuron's activation in first layer\n",
    "    \n",
    "    dz2_db_2 = 1   # this is z_2 derivative w.r.t b^[2] or bias of single neuron in last layer\n",
    "    \n",
    "    # derivative of loss w.r.t w_11^{[2]} i.e the derivative of loss w.r.t first weight of last layer\n",
    "    dloss_dw11_2 = dloss_dz2 * dz2_dw11_2   \n",
    "\n",
    "    \n",
    "    # derivative of loss w.r.t w_12^{[2]}\n",
    "    dloss_dw12_2 = dloss_dz2 * dz2_dw12_2\n",
    "\n",
    "    # derivative of loss w.r.t b^{[2]}\n",
    "    dloss_db_2 = dloss_dz2 * dz2_db_2\n",
    "    \n",
    "    \n",
    "    # =========Gradients===========\n",
    "    # simply using concatenate was creating a tensor of size[2] which was being broadcasted and was changing shape of \n",
    "    # loss to [2, 1]!!!. then that led to weights_2 being changed. Ripple effect.\n",
    "    \n",
    "    loss_grad_w2 = torch.concatenate([dloss_dw11_2, dloss_dw12_2], axis = 0).reshape(2, 1) # Reshape resolved it!! one simple word \n",
    "    loss_grad_b2 = dloss_db_2\n",
    "    \n",
    "    \n",
    "    # ==========Updating weights for last layer according to gradients===========\n",
    "    weights_2 -= 0.1* loss_grad_w2\n",
    "\n",
    "    biases_2 -=  0.1 * loss_grad_b2\n",
    "    "
   ]
  },
  {
   "cell_type": "markdown",
   "id": "6f8d1d60",
   "metadata": {},
   "source": [
    "# Same neural network with torch.nn and using autgrad() for training"
   ]
  },
  {
   "cell_type": "code",
   "execution_count": 523,
   "id": "6bb27f0f",
   "metadata": {},
   "outputs": [],
   "source": [
    "class Simple_nn(torch.nn.Module):\n",
    "    '''\n",
    "    \n",
    "    Implements a simple neural network with one hidden layer with two neurons and one output neuron. \n",
    "    The hidden layer has sigmoid activation.\n",
    "    '''\n",
    "    \n",
    "    def __init__(self, input, n_hidden, output):\n",
    "        \n",
    "        super(Simple_nn, self).__init__()\n",
    "        \n",
    "        self.linear1 = torch.nn.Linear(input, n_hidden)\n",
    "        print(self.linear1.weight)    # weights of first layer. W^[1]\n",
    "        \n",
    "        self.linear2 = torch.nn.Linear(n_hidden, output)\n",
    "#         print(self.linear2.weight)    # weights of output layer. W^[2]\n",
    "        \n",
    "    def forward(self,x):\n",
    "        x = torch.sigmoid(self.linear1(x))\n",
    "        \n",
    "        x = self.linear2(x)\n",
    "        \n",
    "        return x"
   ]
  },
  {
   "cell_type": "code",
   "execution_count": 536,
   "id": "556c829a",
   "metadata": {},
   "outputs": [
    {
     "name": "stdout",
     "output_type": "stream",
     "text": [
      "Parameter containing:\n",
      "tensor([[ 0.0425, -0.3598,  0.4393],\n",
      "        [ 0.0376,  0.3356,  0.3156]], requires_grad=True)\n"
     ]
    }
   ],
   "source": [
    "input_dim = 3    # number of inputs\n",
    "hidden_dim = 2   # number of neurons in hidden layer\n",
    "output_dim = 1   # number of neuron in output layer\n",
    "\n",
    "net = Simple_nn(input_dim, hidden_dim, output_dim)"
   ]
  },
  {
   "cell_type": "code",
   "execution_count": 537,
   "id": "634cff88",
   "metadata": {},
   "outputs": [],
   "source": [
    "criterion = torch.nn.MSELoss()\n",
    "optimizer = torch.optim.SGD(net.parameters(), lr=0.1)"
   ]
  },
  {
   "cell_type": "code",
   "execution_count": 538,
   "id": "5625b241",
   "metadata": {},
   "outputs": [],
   "source": [
    "# Training\n",
    "\n",
    "learning_rate = 1e-1\n",
    "loss_list = []\n",
    "for t in range(10):\n",
    "    y_pred = net(x.T)  # was not working without doing Transpose. Mat mul error was coming.\n",
    "    \n",
    "    loss = criterion(y_pred, y)\n",
    "    loss_list.append(loss.item())\n",
    "    \n",
    "    net.zero_grad()   # clearing the graidents from previous iteration\n",
    "    loss.backward()   # backproagation evaluates the gradients according the comp graph built by autograd()\n",
    "    \n",
    "    with torch.no_grad():\n",
    "        for param in net.parameters(): # iterate over the parameters\n",
    "            param -= learning_rate * param.grad   # update the values of parameters based on gradients"
   ]
  },
  {
   "cell_type": "code",
   "execution_count": 542,
   "id": "41137a7b",
   "metadata": {
    "collapsed": true
   },
   "outputs": [
    {
     "data": {
      "text/plain": [
       "[<matplotlib.lines.Line2D at 0x21d56d1dc70>]"
      ]
     },
     "execution_count": 542,
     "metadata": {},
     "output_type": "execute_result"
    },
    {
     "data": {
      "image/png": "[encoded data removed]",
      "text/plain": [
       "<Figure size 640x480 with 1 Axes>"
      ]
     },
     "metadata": {},
     "output_type": "display_data"
    }
   ],
   "source": [
    "plt.plot(range(5), loss_list[5:])"
   ]
  },
  {
   "cell_type": "markdown",
   "id": "58c8b6fa",
   "metadata": {},
   "source": [
    "So, we have now applied both torch.nn.Module and just torch tensors to build simple neural network. We tested the network with a single input of $[3, 1]$ and a single scalar output. However, in reality, inputs to neural networks are passed in batches and the gradients are calculated on batches and weights are updated after each iteration. We shall look at this aspect and try to implement this in raw torch and also using torch.nn."
   ]
  },
  {
   "cell_type": "markdown",
   "id": "41af2fa0",
   "metadata": {},
   "source": [
    " "
   ]
  },
  {
   "cell_type": "markdown",
   "id": "98d3b14b",
   "metadata": {},
   "source": [
    " "
   ]
  },
  {
   "cell_type": "markdown",
   "id": "88ea3ed5",
   "metadata": {},
   "source": [
    "# Discarded code"
   ]
  },
  {
   "cell_type": "code",
   "execution_count": 141,
   "id": "75ac99bf",
   "metadata": {},
   "outputs": [],
   "source": [
    "# def forward(num_layers, inputs, weights, biases, activ):\n",
    "#     '''\n",
    "#     Calculates forward pass for a single layer model (here with 2 inputs and three neurons)  \n",
    "    \n",
    "#     inputs: Inputs (tensor)\n",
    "#     weights: weights of neurons in the first layer (tensor)\n",
    "#     biases: biases of neurons in first layer (tensor)\n",
    "#     acitv: activation function (function)\n",
    "    \n",
    "#     Returns the output as a tensor\n",
    "#     '''\n",
    "    \n",
    "#     for layer in range(1, num_layers+1):  # Thought of rather than calling forward() again and again will do a for loop\n",
    "#         # but later realized that the inputs remain same due to the inputs passed as params to forward(). So the second layer's\n",
    "#         # input is also the input from input layer and not the activation from the first layer\n",
    "#         print('==============')\n",
    "#         print('Inputs for layer {}: {}'.format(layer, inputs))\n",
    "\n",
    "#         print('==============')\n",
    "#         print('biases for layer {}: {}: '.format(layer, biases))\n",
    "\n",
    "#         print('==============')\n",
    "#         print('Weightsfor layer {}: {}:'.format(layer, weights))\n",
    "\n",
    "#         if weights.shape[1]>1:\n",
    "#             z = weights@inputs + biases  \n",
    "#             # This line is the culprit. Have to solve this problem using this function itself or \n",
    "#             # will have to keep calling forward again and again. But this mistake was subtle and would not have realized if not\n",
    "#             # for the so many print statements. Really usefyll!!\n",
    "            \n",
    "#             out = activ(z)\n",
    "#         else:\n",
    "#             z = torch.dot(weights.ravel(), inputs.ravel()) + biases.ravel()\n",
    "#             out = activ(z)\n",
    "#         print('==============')\n",
    "#         print('Output for layer {}: {}'.format(layer, z))\n",
    "    \n",
    "#     return out"
   ]
  },
  {
   "cell_type": "code",
   "execution_count": 142,
   "id": "fc43a52e",
   "metadata": {
    "collapsed": true
   },
   "outputs": [
    {
     "name": "stdout",
     "output_type": "stream",
     "text": [
      "==============\n",
      "Inputs for layer 1: tensor([[ 0.8459],\n",
      "        [ 0.1651],\n",
      "        [-2.1057]])\n",
      "==============\n",
      "biases for layer 1: tensor([[1.],\n",
      "        [1.]], requires_grad=True): \n",
      "==============\n",
      "Weightsfor layer 1: tensor([[-1.8574,  0.4155, -0.4989],\n",
      "        [-1.9424,  1.0353, -0.3785]], requires_grad=True):\n",
      "==============\n",
      "Output for layer 1: tensor([[0.5481],\n",
      "        [0.3249]], grad_fn=<AddBackward0>)\n",
      "==============\n",
      "Inputs for layer 2: tensor([[ 0.8459],\n",
      "        [ 0.1651],\n",
      "        [-2.1057]])\n",
      "==============\n",
      "biases for layer 2: tensor([[1.],\n",
      "        [1.]], requires_grad=True): \n",
      "==============\n",
      "Weightsfor layer 2: tensor([[-1.8574,  0.4155, -0.4989],\n",
      "        [-1.9424,  1.0353, -0.3785]], requires_grad=True):\n",
      "==============\n",
      "Output for layer 2: tensor([[0.5481],\n",
      "        [0.3249]], grad_fn=<AddBackward0>)\n"
     ]
    }
   ],
   "source": [
    "# h1 = forward(2, inputs, weights_1, biases_1, sigmoid)\n",
    "# in the output see that the `input for layer 2` is same as `input for layer 1`, where in reality input for layer 2 should\n",
    "# activation from the first layer or output of first layer."
   ]
  }
 ],
 "metadata": {
  "kernelspec": {
   "display_name": "Python 3",
   "language": "python",
   "name": "python3"
  },
  "language_info": {
   "codemirror_mode": {
    "name": "ipython",
    "version": 3
   },
   "file_extension": ".py",
   "mimetype": "text/x-python",
   "name": "python",
   "nbconvert_exporter": "python",
   "pygments_lexer": "ipython3",
   "version": "3.9.13"
  }
 },
 "nbformat": 4,
 "nbformat_minor": 5
}
